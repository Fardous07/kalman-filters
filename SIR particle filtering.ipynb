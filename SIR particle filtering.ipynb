{
 "cells": [
  {
   "cell_type": "code",
   "execution_count": 1,
   "id": "6a3a1aec-24fe-42f1-b914-35d362c167d1",
   "metadata": {},
   "outputs": [],
   "source": [
    "import numpy as np\n",
    "import matplotlib.pyplot as plt\n",
    "from numpy.linalg import norm\n",
    "from numpy.random import randn, uniform\n",
    "import scipy.stats"
   ]
  },
  {
   "cell_type": "code",
   "execution_count": 2,
   "id": "1be587fe-c0d0-48dc-985d-ed54d0da41d7",
   "metadata": {},
   "outputs": [],
   "source": [
    "def create_uniform_particles(x_range, y_range, theta_range, N):\n",
    "    particles = np.empty((N, 3))\n",
    "    particles[:, 0] = uniform(x_range[0], x_range[1], size=N)\n",
    "    particles[:, 1] = uniform(y_range[0], y_range[1], size=N)\n",
    "    particles[:, 2] = uniform(theta_range[0], theta_range[1], size=N)\n",
    "    return particles"
   ]
  },
  {
   "cell_type": "code",
   "execution_count": 3,
   "id": "81521706-457f-4f62-99b1-40b1eb59da95",
   "metadata": {},
   "outputs": [],
   "source": [
    "def create_gaussian_particles(mean, std, N):\n",
    "    particles = np.empty((N, 3))\n",
    "    particles[:, 0] = mean[0] + (randn(N) * std[0])\n",
    "    particles[:, 1] = mean[1] + (randn(N) * std[1])\n",
    "    particles[:, 2] = mean[2] + (randn(N) * std[2])\n",
    "    particles[:, 2] %= 2 * np.pi\n",
    "    return particles"
   ]
  },
  {
   "cell_type": "code",
   "execution_count": 4,
   "id": "8d7f2737-c02e-49e5-926d-efed23e091b2",
   "metadata": {},
   "outputs": [],
   "source": [
    "def predict(particles, u, std, dt=1.0):\n",
    "    N = len(particles)\n",
    "    particles[:, 2] += u[0] * dt + randn(N) * std[0]\n",
    "    particles[:, 2] %= 2 * np.pi\n",
    "    dist = u[1] * dt + randn(N) * std[1]\n",
    "    particles[:, 0] += np.cos(particles[:, 2]) * dist\n",
    "    particles[:, 1] += np.sin(particles[:, 2]) * dist"
   ]
  },
  {
   "cell_type": "code",
   "execution_count": 5,
   "id": "93f0ee6b-cb7f-44ea-b406-7da43e5a5ac7",
   "metadata": {},
   "outputs": [],
   "source": [
    "def update(particles, weights, z, R, landmarks):\n",
    "    weights.fill(1.)\n",
    "    for i, landmark in enumerate(landmarks):\n",
    "        distance = np.linalg.norm(particles[:, 0:2] - landmark, axis=1)\n",
    "        weights *= scipy.stats.norm(distance, R).pdf(z[i])\n",
    "    weights += 1.e-300      # avoid round-off to zero\n",
    "    weights /= sum(weights) # normalize"
   ]
  },
  {
   "cell_type": "code",
   "execution_count": 6,
   "id": "747f8339-94e5-43e7-91dc-e1f999e21ead",
   "metadata": {},
   "outputs": [],
   "source": [
    "def neff(weights):\n",
    "    return 1. / np.sum(np.square(weights))"
   ]
  },
  {
   "cell_type": "code",
   "execution_count": 7,
   "id": "15575125-0861-4241-b771-78b3c98fc0d4",
   "metadata": {},
   "outputs": [],
   "source": [
    "def systematic_resample(weights):\n",
    "    N = len(weights)\n",
    "    positions = (np.arange(N) + np.random.random()) / N\n",
    "    indexes = np.zeros(N, 'i')\n",
    "    cumulative_sum = np.cumsum(weights)\n",
    "    i, j = 0, 0\n",
    "    while i < N:\n",
    "        if positions[i] < cumulative_sum[j]:\n",
    "            indexes[i] = j\n",
    "            i += 1\n",
    "        else:\n",
    "            j += 1\n",
    "    return indexes"
   ]
  },
  {
   "cell_type": "code",
   "execution_count": 8,
   "id": "068a477f-55a5-49d3-b182-99133c0650b1",
   "metadata": {},
   "outputs": [],
   "source": [
    "def resample_from_index(particles, weights, indexes):\n",
    "    particles[:] = particles[indexes]\n",
    "    weights.fill(1.0 / len(weights))"
   ]
  },
  {
   "cell_type": "code",
   "execution_count": 9,
   "id": "926960cc-2d4a-4e69-a553-f36049af0be3",
   "metadata": {},
   "outputs": [],
   "source": [
    "def estimate(particles, weights):\n",
    "    pos = particles[:, 0:2]\n",
    "    mean = np.average(pos, weights=weights, axis=0)\n",
    "    var  = np.average((pos - mean)**2, weights=weights, axis=0)\n",
    "    return mean, var"
   ]
  },
  {
   "cell_type": "code",
   "execution_count": 10,
   "id": "eaf6d872-10da-4e6c-a198-781376050ba2",
   "metadata": {},
   "outputs": [],
   "source": [
    "def run_pf(N, iters=18, sensor_std_err=0.1, do_plot=True, plot_particles=False, xlim=(0, 20), ylim=(0, 20), initial_x=None):\n",
    "    landmarks = np.array([[-1, 2], [5, 10], [12, 14], [18, 21]])\n",
    "    NL = len(landmarks)\n",
    "    plt.figure()\n",
    "    \n",
    "    if initial_x is not None:\n",
    "        particles = create_gaussian_particles(mean=initial_x, std=(5, 5, np.pi/4), N=N)\n",
    "    else:\n",
    "        particles = create_uniform_particles((0, 20), (0, 20), (0, 2 * np.pi), N)\n",
    "    \n",
    "    weights = np.ones(N) / N\n",
    "\n",
    "    if plot_particles:\n",
    "        alpha = .20\n",
    "        if N > 5000:\n",
    "            alpha *= np.sqrt(5000) / np.sqrt(N)\n",
    "        plt.scatter(particles[:, 0], particles[:, 1], alpha=alpha, color='g')\n",
    "\n",
    "    xs = []\n",
    "    robot_pos = np.array([0., 0.])\n",
    "    \n",
    "    for _ in range(iters):\n",
    "        robot_pos += (1, 1)\n",
    "        zs = norm(landmarks - robot_pos, axis=1) + (randn(NL) * sensor_std_err)\n",
    "        predict(particles, u=(0.00, 1.414), std=(0.2, 0.05))\n",
    "        update(particles, weights, z=zs, R=sensor_std_err, landmarks=landmarks)\n",
    "\n",
    "        if neff(weights) < N / 2:\n",
    "            indexes = systematic_resample(weights)\n",
    "            resample_from_index(particles, weights, indexes)\n",
    "        \n",
    "        mu, var = estimate(particles, weights)\n",
    "        xs.append(mu)\n",
    "\n",
    "        if plot_particles:\n",
    "            plt.scatter(particles[:, 0], particles[:, 1], color='k', marker=',', s=1)\n",
    "        p1 = plt.scatter(robot_pos[0], robot_pos[1], marker='+', color='k', s=180, lw=3)\n",
    "        p2 = plt.scatter(mu[0], mu[1], marker='s', color='r')\n",
    "    \n",
    "    xs = np.array(xs)\n",
    "    plt.legend([p1, p2], ['Actual', 'PF'], loc=4, numpoints=1)\n",
    "    plt.xlim(*xlim)\n",
    "    plt.ylim(*ylim)\n",
    "    print('Final position error, variance:\\n\\t', mu - np.array([iters, iters]), var)\n",
    "    plt.show()"
   ]
  },
  {
   "cell_type": "code",
   "execution_count": 11,
   "id": "23701571-ed96-42bb-bd72-4ff707a31cb6",
   "metadata": {},
   "outputs": [
    {
     "name": "stdout",
     "output_type": "stream",
     "text": [
      "Final position error, variance:\n",
      "\t [-0.11050622  0.10956331] [0.00902346 0.00813228]\n"
     ]
    },
    {
     "data": {
      "image/png": "[encoded data removed]",
      "text/plain": [
       "<Figure size 640x480 with 1 Axes>"
      ]
     },
     "metadata": {},
     "output_type": "display_data"
    }
   ],
   "source": [
    "# Run the particle filter\n",
    "from numpy.random import seed\n",
    "seed(2)\n",
    "run_pf(N=5000, plot_particles=False)"
   ]
  },
  {
   "cell_type": "code",
   "execution_count": 26,
   "id": "61f92cf1-8b98-40fa-b9e0-01e65c702ebe",
   "metadata": {},
   "outputs": [
    {
     "name": "stdout",
     "output_type": "stream",
     "text": [
      "Final position error, variance:\n",
      "\t [-0.11050622  0.10956331] [0.00902346 0.00813228]\n"
     ]
    },
    {
     "data": {
      "image/png": "[encoded data removed]",
      "text/plain": [
       "<Figure size 640x480 with 1 Axes>"
      ]
     },
     "metadata": {},
     "output_type": "display_data"
    }
   ],
   "source": [
    "import numpy as np\n",
    "import matplotlib.pyplot as plt\n",
    "from numpy.linalg import norm\n",
    "from numpy.random import randn, uniform\n",
    "import scipy.stats\n",
    "\n",
    "def create_uniform_particles(x_range, y_range, theta_range, N):\n",
    "    particles = np.empty((N, 3))\n",
    "    particles[:, 0] = uniform(x_range[0], x_range[1], size=N)\n",
    "    particles[:, 1] = uniform(y_range[0], y_range[1], size=N)\n",
    "    particles[:, 2] = uniform(theta_range[0], theta_range[1], size=N)\n",
    "    return particles\n",
    "\n",
    "def create_gaussian_particles(mean, std, N):\n",
    "    particles = np.empty((N, 3))\n",
    "    particles[:, 0] = mean[0] + (randn(N) * std[0])\n",
    "    particles[:, 1] = mean[1] + (randn(N) * std[1])\n",
    "    particles[:, 2] = mean[2] + (randn(N) * std[2])\n",
    "    return particles\n",
    "\n",
    "def predict(particles, u, std, dt=1.0):\n",
    "    N = len(particles)\n",
    "    particles[:, 2] += u[0] * dt + randn(N) * std[0]\n",
    "    particles[:, 2] %= 2 * np.pi\n",
    "    dist = u[1] * dt + randn(N) * std[1]\n",
    "    particles[:, 0] += np.cos(particles[:, 2]) * dist\n",
    "    particles[:, 1] += np.sin(particles[:, 2]) * dist\n",
    "\n",
    "def update(particles, weights, z, R, landmarks):\n",
    "    weights.fill(1.)\n",
    "    for i, landmark in enumerate(landmarks):\n",
    "        distance = np.linalg.norm(particles[:, 0:2] - landmark, axis=1)\n",
    "        weights *= scipy.stats.norm(distance, R).pdf(z[i])\n",
    "    weights += 1.e-300      # avoid round-off to zero\n",
    "    weights /= sum(weights) # normalize\n",
    "\n",
    "def systematic_resample(weights):\n",
    "    N = len(weights)\n",
    "    positions = (np.arange(N) + np.random.random()) / N\n",
    "    indexes = np.zeros(N, 'i')\n",
    "    cumulative_sum = np.cumsum(weights)\n",
    "    i, j = 0, 0\n",
    "    while i < N:\n",
    "        if positions[i] < cumulative_sum[j]:\n",
    "            indexes[i] = j\n",
    "            i += 1\n",
    "        else:\n",
    "            j += 1\n",
    "    return indexes\n",
    "\n",
    "def resample_from_index(particles, weights, indexes):\n",
    "    particles[:] = particles[indexes]\n",
    "    weights.fill(1.0 / len(weights))\n",
    "\n",
    "def estimate(particles, weights):\n",
    "    pos = particles[:, 0:2]\n",
    "    mean = np.average(pos, weights=weights, axis=0)\n",
    "    var  = np.average((pos - mean)**2, weights=weights, axis=0)\n",
    "    return mean, var\n",
    "\n",
    "def run_pf(N, iters=18, sensor_std_err=0.1, do_plot=True, plot_particles=False, xlim=(0, 20), ylim=(0, 20), initial_x=None):\n",
    "    landmarks = np.array([[-1, 2], [5, 10], [12, 14], [18, 21]])\n",
    "    NL = len(landmarks)\n",
    "    plt.figure()\n",
    "    \n",
    "    if initial_x is None:\n",
    "        particles = create_uniform_particles((0,20), (0,20), (0,2*np.pi), N)\n",
    "    else:\n",
    "        particles = create_gaussian_particles(mean=initial_x, std=(5, 5, np.pi/4), N=N)\n",
    "    \n",
    "    weights = np.ones(N) / N\n",
    "\n",
    "    if plot_particles:\n",
    "        alpha = .20\n",
    "        if N > 5000:\n",
    "            alpha *= np.sqrt(5000) / np.sqrt(N)\n",
    "        plt.scatter(particles[:, 0], particles[:, 1], alpha=alpha, color='g')\n",
    "\n",
    "    xs = []\n",
    "    robot_pos = np.array([0., 0.])\n",
    "    \n",
    "    for _ in range(iters):\n",
    "        robot_pos += (1, 1)\n",
    "        zs = norm(landmarks - robot_pos, axis=1) + (randn(NL) * sensor_std_err)\n",
    "        predict(particles, u=(0.00, 1.414), std=(0.2, 0.05))\n",
    "        update(particles, weights, z=zs, R=sensor_std_err, landmarks=landmarks)\n",
    "\n",
    "        if neff(weights) < N / 2:\n",
    "            indexes = systematic_resample(weights)\n",
    "            resample_from_index(particles, weights, indexes)\n",
    "        \n",
    "        mu, var = estimate(particles, weights)\n",
    "        xs.append(mu)\n",
    "\n",
    "        if plot_particles:\n",
    "            plt.scatter(particles[:, 0], particles[:, 1], color='k', marker=',', s=1)\n",
    "        p1 = plt.scatter(robot_pos[0], robot_pos[1], marker='+', color='k', s=180, lw=3)\n",
    "        p2 = plt.scatter(mu[0], mu[1], marker='s', color='r')\n",
    "    \n",
    "    xs = np.array(xs)\n",
    "    plt.legend([p1, p2], ['Actual', 'PF'], loc=4, numpoints=1)\n",
    "    plt.xlim(*xlim)\n",
    "    plt.ylim(*ylim)\n",
    "    print('Final position error, variance:\\n\\t', mu - np.array([iters, iters]), var)\n",
    "    plt.show()\n",
    "\n",
    "# Run the particle filter\n",
    "from numpy.random import seed\n",
    "seed(2)\n",
    "run_pf(N=5000, plot_particles=False)"
   ]
  },
  {
   "cell_type": "code",
   "execution_count": null,
   "id": "4368dde4-bd30-47a8-afbc-4133c53ffe25",
   "metadata": {},
   "outputs": [],
   "source": []
  }
 ],
 "metadata": {
  "kernelspec": {
   "display_name": "Python 3 (ipykernel)",
   "language": "python",
   "name": "python3"
  },
  "language_info": {
   "codemirror_mode": {
    "name": "ipython",
    "version": 3
   },
   "file_extension": ".py",
   "mimetype": "text/x-python",
   "name": "python",
   "nbconvert_exporter": "python",
   "pygments_lexer": "ipython3",
   "version": "3.11.7"
  }
 },
 "nbformat": 4,
 "nbformat_minor": 5
}
